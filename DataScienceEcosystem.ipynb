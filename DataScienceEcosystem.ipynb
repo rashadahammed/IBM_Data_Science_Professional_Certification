{
 "cells": [
  {
   "cell_type": "markdown",
   "id": "5fbb3074",
   "metadata": {},
   "source": [
    "# Data Science Tools and Ecosystem"
   ]
  },
  {
   "cell_type": "markdown",
   "id": "19716d50",
   "metadata": {},
   "source": [
    "In this notebook, Data Science Tools and Ecosystem are summarized."
   ]
  },
  {
   "cell_type": "markdown",
   "id": "3eedb6d3",
   "metadata": {},
   "source": [
    "#### Some of the popular languages that Data Scientists use are:\n",
    "\n",
    "1. **Python**\n",
    "2. **R**\n",
    "3. **SQL (Structured Query Language)**\n",
    "4. **Julia**\n",
    "5. **SAS (Statistical Analysis System)**"
   ]
  },
  {
   "cell_type": "markdown",
   "id": "defa3fcf",
   "metadata": {},
   "source": [
    "#### Some of the commonly used libraries used by Data Scientists include:\n",
    "    \n",
    "1. **NumPy**\n",
    "2. **Pandas**\n",
    "3. **Matplotlib**\n",
    "4. **Seaborn**\n",
    "5. **scikit-learn**\n",
    "6. **TensorFlow**\n",
    "7. **Keras**\n",
    "8. **PyTorch**\n",
    "9. **SciPy**\n",
    "10. **NLTK (Natural Language Toolkit)**\n",
    "11. **Statsmodels**\n"
   ]
  },
  {
   "cell_type": "markdown",
   "id": "fa7706fa",
   "metadata": {},
   "source": [
    "## Data Science Tools\n",
    "\n",
    "| Tool Name         | Description                                           |\n",
    "|-------------------|-------------------------------------------------------|\n",
    "| **Python**        | A versatile and widely-used programming language with rich data science libraries like Pandas, NumPy, and scikit-learn. |\n",
    "| **R**             | A statistical programming language with extensive libraries for data analysis, visualization, and statistical modeling. |\n",
    "| **SQL**           | A language for managing and querying databases, crucial for retrieving and analyzing data stored in relational databases. |\n",
    "| **Tableau**       | A popular data visualization tool that allows users to create interactive and shareable dashboards. |\n",
    "| **Power BI**      | A business analytics tool for creating insightful visualizations and sharing insights across an organization. |\n",
    "| **SAS**           | A software suite used for advanced analytics, multivariate analysis, business intelligence, and data management. |\n",
    "| **Excel**         | Widely used for data analysis and visualization, offering various functions and tools for processing and presenting data. |\n",
    "| **Jupyter Notebook** | An open-source web application that allows you to create and share documents that contain live code, equations, visualizations, and narrative text. |\n",
    "| **Apache Hadoop** | An open-source framework for distributed storage and processing of large datasets across clusters of computers. |\n",
    "| **Spark**         | An open-source, distributed computing system that provides an interface for programming entire clusters with implicit data parallelism and fault tolerance. |\n",
    "| **IBM Watson**    | A suite of AI and machine learning tools and applications, including natural language processing, image recognition, and more. |\n",
    "| **Google Colab**  | A cloud-based Jupyter notebook environment provided by Google for machine learning and data analysis. |\n",
    "| **D3.js**         | A JavaScript library for producing dynamic, interactive data visualizations in web browsers. |\n",
    "| **H2O.ai**        | An open-source machine learning platform that provides various algorithms and tools for building and deploying models. |"
   ]
  },
  {
   "cell_type": "markdown",
   "id": "76513143",
   "metadata": {},
   "source": [
    "### Below are a few examples of evaluating arithmetic expressions in Python\n",
    "\n"
   ]
  },
  {
   "cell_type": "code",
   "execution_count": 1,
   "id": "e6837029",
   "metadata": {},
   "outputs": [
    {
     "data": {
      "text/plain": [
       "17"
      ]
     },
     "execution_count": 1,
     "metadata": {},
     "output_type": "execute_result"
    }
   ],
   "source": [
    "(3*4)+5\n",
    "\n",
    "#This a simple arithmetic expression to mutiply then add integers"
   ]
  },
  {
   "cell_type": "code",
   "execution_count": 2,
   "id": "36c02c99",
   "metadata": {},
   "outputs": [
    {
     "name": "stdout",
     "output_type": "stream",
     "text": [
      "200 minutes is equal to 3.3333333333333335 hours\n"
     ]
    }
   ],
   "source": [
    "minutes = 200\n",
    "hours = minutes / 60\n",
    "print(\"200 minutes is equal to\", hours, \"hours\")\n",
    "\n",
    "\n",
    "\n",
    "#This will convert 200 minutes to hours by diving by 60"
   ]
  },
  {
   "cell_type": "markdown",
   "id": "c789f083",
   "metadata": {},
   "source": [
    "# Objectives\n",
    "\n",
    "**Objectives:**\n",
    "\n",
    "- List popular languages for Data Science.\n",
    "- Demonstrate the usage of various Data Science libraries.\n",
    "- Introduce fundamental arithmetic expressions.\n",
    "- Showcase conversion of units in Data Science.\n",
    "- Highlight essential components and tools used in Data Science.\n"
   ]
  },
  {
   "cell_type": "markdown",
   "id": "4417c744",
   "metadata": {},
   "source": [
    "## Author\n",
    "Rashad Ahammed\n"
   ]
  },
  {
   "cell_type": "code",
   "execution_count": null,
   "id": "1e3b4b61",
   "metadata": {},
   "outputs": [],
   "source": []
  }
 ],
 "metadata": {
  "kernelspec": {
   "display_name": "Python 3 (ipykernel)",
   "language": "python",
   "name": "python3"
  },
  "language_info": {
   "codemirror_mode": {
    "name": "ipython",
    "version": 3
   },
   "file_extension": ".py",
   "mimetype": "text/x-python",
   "name": "python",
   "nbconvert_exporter": "python",
   "pygments_lexer": "ipython3",
   "version": "3.11.4"
  }
 },
 "nbformat": 4,
 "nbformat_minor": 5
}
